{
 "cells": [
  {
   "cell_type": "code",
   "execution_count": 6,
   "metadata": {
    "collapsed": true,
    "deletable": true,
    "editable": true
   },
   "outputs": [],
   "source": [
    "import numpy as np\n",
    "import numpy\n",
    "import os\n",
    "\n",
    "class TopRelated(object):\n",
    "    def __init__(self, track_factors):\n",
    "        # fully normalize artist_factors, so can compare with only the dot product\n",
    "        norms = numpy.linalg.norm(track_factors, axis=-1)\n",
    "        self.factors = track_factors / norms[:, numpy.newaxis]\n",
    "\n",
    "    def get_related(self, matrix_index, N=10):\n",
    "        scores = self.factors.dot(self.factors[matrix_index])\n",
    "        best = numpy.argpartition(scores, -N)[-N:]\n",
    "        return sorted(zip(best, scores[best]), key=lambda x: -x[1])"
   ]
  },
  {
   "cell_type": "code",
   "execution_count": 12,
   "metadata": {
    "collapsed": false,
    "deletable": true,
    "editable": true
   },
   "outputs": [
    {
     "data": {
      "text/plain": [
       "(661392, 80)"
      ]
     },
     "execution_count": 12,
     "metadata": {},
     "output_type": "execute_result"
    }
   ],
   "source": [
    "msd_artists_tracks_fname = '../../matchings/msd_lfm-1b/matched_artists_tracks.txt'\n",
    "msd_track_ids_fname = '../../matchings/msd_lfm-1b/artist_trackname_to_msd_track_ids.txt'\n",
    "\n",
    "msd_artist_tracks = [line.strip() for line in open(msd_artists_tracks_fname)]\n",
    "msd_track_ids = [line.strip().split('\\t') for line in open(msd_track_ids_fname)]\n",
    "\n",
    "msd_track_id_to_artists_trackname = {\n",
    "    msd_track_id: artist_trackname\n",
    "    for msd_track_ids_list, artist_trackname in zip(msd_track_ids, msd_artist_tracks)\n",
    "    for msd_track_id in msd_track_ids_list\n",
    "}\n",
    "\n",
    "matrix_artist_tracknames_fname = '/../../matchings/both/matched_artists_tracks.txt'\n",
    "matrix_artist_tracknames = [line.strip() for line in open(matrix_artist_tracknames_fname)]\n",
    "artist_trackname_to_matrix_index = {\n",
    "    artist_trackname: index\n",
    "    for index, artist_trackname in enumerate(matrix_artist_tracknames)\n",
    "}\n",
    "matrix_index_to_artist_trackname = {\n",
    "    index: artist_trackname\n",
    "    for index, artist_trackname in enumerate(matrix_artist_tracknames)\n",
    "}\n",
    "\n",
    "msd_track_id_to_matrix_index = {\n",
    "    msd_track_id: artist_trackname_to_matrix_index[artist_trackname]\n",
    "    for msd_track_ids_list, artist_trackname in zip(msd_track_ids, msd_artist_tracks)\n",
    "    for msd_track_id in msd_track_ids_list\n",
    "}\n",
    "\n",
    "song_factors_fname = '/home/devin/git/ms-thesis/latent_factors/output/factors_merged_v.npy'\n",
    "song_factors = np.load(song_factors_fname)\n",
    "song_factors.shape"
   ]
  },
  {
   "cell_type": "code",
   "execution_count": 7,
   "metadata": {
    "collapsed": true,
    "deletable": true,
    "editable": true
   },
   "outputs": [],
   "source": [
    "tr = TopRelated(song_factors)"
   ]
  },
  {
   "cell_type": "code",
   "execution_count": 8,
   "metadata": {
    "collapsed": false,
    "deletable": true,
    "editable": true
   },
   "outputs": [
    {
     "name": "stdout",
     "output_type": "stream",
     "text": [
      "nirvana\tcome as you are\n",
      "229\n"
     ]
    }
   ],
   "source": [
    "msd_track_id = 'TRCOOYB128E078ED95'\n",
    "artist_trackname = msd_track_id_to_artists_trackname[msd_track_id]\n",
    "print(artist_trackname)\n",
    "matrix_index = msd_track_id_to_matrix_index[msd_track_id]\n",
    "print(matrix_index)"
   ]
  },
  {
   "cell_type": "code",
   "execution_count": 23,
   "metadata": {
    "collapsed": false,
    "deletable": true,
    "editable": true
   },
   "outputs": [
    {
     "name": "stdout",
     "output_type": "stream",
     "text": [
      "1.00\tnirvana\tcome as you are\n",
      "0.99\tnirvana\tlithium\n",
      "0.98\tnirvana\tsmells like teen spirit\n",
      "0.97\tnirvana\theart-shaped box\n",
      "0.97\tnirvana\trape me\n",
      "0.97\tnirvana\tthe man who sold the world\n",
      "0.97\tnirvana\tabout a girl\n",
      "0.96\tnirvana\tpolly\n",
      "0.95\tnirvana\tall apologies\n",
      "0.94\tnirvana\tdumb\n",
      "0.94\tnirvana\tsomething in the way\n",
      "0.94\tnirvana\tbreed\n",
      "0.93\tnirvana\ton a plain\n",
      "0.93\tnirvana\tdrain you\n",
      "0.92\tnirvana\twhere did you sleep last night\n",
      "0.91\tnirvana\tterritorial pissings\n",
      "0.91\tnirvana\tlounge act\n",
      "0.91\tnirvana\tyou know you're right\n",
      "0.90\tnirvana\tstay away\n",
      "0.88\trage against the machine\tkilling in the name\n"
     ]
    }
   ],
   "source": [
    "rel = tr.get_related(matrix_index, N=20)\n",
    "for r in rel:\n",
    "    print('{0:.2f}\\t'.format(r[1]) + matrix_index_to_artist_trackname[r[0]])"
   ]
  },
  {
   "cell_type": "code",
   "execution_count": null,
   "metadata": {
    "collapsed": true,
    "deletable": true,
    "editable": true
   },
   "outputs": [],
   "source": []
  }
 ],
 "metadata": {
  "kernelspec": {
   "display_name": "Python 2",
   "language": "python",
   "name": "python2"
  },
  "language_info": {
   "codemirror_mode": {
    "name": "ipython",
    "version": 2
   },
   "file_extension": ".py",
   "mimetype": "text/x-python",
   "name": "python",
   "nbconvert_exporter": "python",
   "pygments_lexer": "ipython2",
   "version": "2.7.12"
  }
 },
 "nbformat": 4,
 "nbformat_minor": 2
}
